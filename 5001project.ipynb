{
  "nbformat": 4,
  "nbformat_minor": 0,
  "metadata": {
    "colab": {
      "name": "5001project.ipynb",
      "provenance": [],
      "collapsed_sections": []
    },
    "kernelspec": {
      "name": "python3",
      "display_name": "Python 3"
    },
    "language_info": {
      "name": "python"
    }
  },
  "cells": [
    {
      "cell_type": "code",
      "execution_count": 1,
      "metadata": {
        "colab": {
          "base_uri": "https://localhost:8080/"
        },
        "id": "lErCxBshnzAM",
        "outputId": "6073d3f4-d3bb-4f83-e296-600754598cbf"
      },
      "outputs": [
        {
          "output_type": "stream",
          "name": "stdout",
          "text": [
            "Mounted at /content/drive\n",
            "/content/drive/My Drive/MSBD/5001/individual project\n"
          ]
        }
      ],
      "source": [
        "from google.colab import drive\n",
        "drive.mount('/content/drive')\n",
        "%cd /content/drive/My Drive/MSBD/5001/individual project/"
      ]
    },
    {
      "cell_type": "code",
      "source": [
        "import pandas as pd\n",
        "import copy\n",
        "import matplotlib.pyplot as plt\n",
        "from sklearn.preprocessing import MinMaxScaler, StandardScaler\n",
        "!pip install --upgrade lightgbm\n",
        "import lightgbm as lgb\n",
        "from sklearn.model_selection import train_test_split, GridSearchCV, RepeatedKFold, KFold\n",
        "from sklearn.metrics import classification_report, confusion_matrix, auc, roc_curve, roc_auc_score\n",
        "from sklearn.naive_bayes import GaussianNB\n",
        "from sklearn.manifold import TSNE\n",
        "import numpy as np\n",
        "import itertools\n",
        "from tqdm import tqdm\n",
        "from sklearn.model_selection import LeaveOneOut\n",
        "import xgboost as xgb\n",
        "from sklearn.pipeline import make_pipeline\n",
        "from sklearn.svm import SVC\n",
        "from sklearn.model_selection import cross_validate\n",
        "from sklearn.ensemble import BaggingClassifier\n",
        "from sklearn.datasets import make_classification\n",
        "from sklearn.ensemble import RandomForestClassifier, GradientBoostingClassifier\n",
        "!pip install catboost\n",
        "from catboost import CatBoostClassifier, Pool"
      ],
      "metadata": {
        "id": "nLXva_Xtpq35",
        "colab": {
          "base_uri": "https://localhost:8080/"
        },
        "outputId": "74ab7a4d-628c-4360-87d8-4a82fecfc972"
      },
      "execution_count": 2,
      "outputs": [
        {
          "output_type": "stream",
          "name": "stdout",
          "text": [
            "Requirement already satisfied: lightgbm in /usr/local/lib/python3.7/dist-packages (2.2.3)\n",
            "Collecting lightgbm\n",
            "  Downloading lightgbm-3.3.2-py3-none-manylinux1_x86_64.whl (2.0 MB)\n",
            "\u001b[K     |████████████████████████████████| 2.0 MB 7.6 MB/s \n",
            "\u001b[?25hRequirement already satisfied: scipy in /usr/local/lib/python3.7/dist-packages (from lightgbm) (1.4.1)\n",
            "Requirement already satisfied: wheel in /usr/local/lib/python3.7/dist-packages (from lightgbm) (0.37.1)\n",
            "Requirement already satisfied: scikit-learn!=0.22.0 in /usr/local/lib/python3.7/dist-packages (from lightgbm) (1.0.2)\n",
            "Requirement already satisfied: numpy in /usr/local/lib/python3.7/dist-packages (from lightgbm) (1.21.6)\n",
            "Requirement already satisfied: joblib>=0.11 in /usr/local/lib/python3.7/dist-packages (from scikit-learn!=0.22.0->lightgbm) (1.1.0)\n",
            "Requirement already satisfied: threadpoolctl>=2.0.0 in /usr/local/lib/python3.7/dist-packages (from scikit-learn!=0.22.0->lightgbm) (3.1.0)\n",
            "Installing collected packages: lightgbm\n",
            "  Attempting uninstall: lightgbm\n",
            "    Found existing installation: lightgbm 2.2.3\n",
            "    Uninstalling lightgbm-2.2.3:\n",
            "      Successfully uninstalled lightgbm-2.2.3\n",
            "Successfully installed lightgbm-3.3.2\n",
            "Collecting catboost\n",
            "  Downloading catboost-1.0.5-cp37-none-manylinux1_x86_64.whl (76.6 MB)\n",
            "\u001b[K     |████████████████████████████████| 76.6 MB 1.1 MB/s \n",
            "\u001b[?25hRequirement already satisfied: graphviz in /usr/local/lib/python3.7/dist-packages (from catboost) (0.10.1)\n",
            "Requirement already satisfied: pandas>=0.24.0 in /usr/local/lib/python3.7/dist-packages (from catboost) (1.3.5)\n",
            "Requirement already satisfied: plotly in /usr/local/lib/python3.7/dist-packages (from catboost) (5.5.0)\n",
            "Requirement already satisfied: scipy in /usr/local/lib/python3.7/dist-packages (from catboost) (1.4.1)\n",
            "Requirement already satisfied: matplotlib in /usr/local/lib/python3.7/dist-packages (from catboost) (3.2.2)\n",
            "Requirement already satisfied: six in /usr/local/lib/python3.7/dist-packages (from catboost) (1.15.0)\n",
            "Requirement already satisfied: numpy>=1.16.0 in /usr/local/lib/python3.7/dist-packages (from catboost) (1.21.6)\n",
            "Requirement already satisfied: pytz>=2017.3 in /usr/local/lib/python3.7/dist-packages (from pandas>=0.24.0->catboost) (2022.1)\n",
            "Requirement already satisfied: python-dateutil>=2.7.3 in /usr/local/lib/python3.7/dist-packages (from pandas>=0.24.0->catboost) (2.8.2)\n",
            "Requirement already satisfied: pyparsing!=2.0.4,!=2.1.2,!=2.1.6,>=2.0.1 in /usr/local/lib/python3.7/dist-packages (from matplotlib->catboost) (3.0.8)\n",
            "Requirement already satisfied: cycler>=0.10 in /usr/local/lib/python3.7/dist-packages (from matplotlib->catboost) (0.11.0)\n",
            "Requirement already satisfied: kiwisolver>=1.0.1 in /usr/local/lib/python3.7/dist-packages (from matplotlib->catboost) (1.4.2)\n",
            "Requirement already satisfied: typing-extensions in /usr/local/lib/python3.7/dist-packages (from kiwisolver>=1.0.1->matplotlib->catboost) (4.2.0)\n",
            "Requirement already satisfied: tenacity>=6.2.0 in /usr/local/lib/python3.7/dist-packages (from plotly->catboost) (8.0.1)\n",
            "Installing collected packages: catboost\n",
            "Successfully installed catboost-1.0.5\n"
          ]
        }
      ]
    },
    {
      "cell_type": "code",
      "source": [
        "train_df = pd.read_csv('./data/train.csv')\n",
        "test_df = pd.read_csv('./data/test.csv')\n",
        "submission_result = pd.read_csv('./data/sample_submission.csv')"
      ],
      "metadata": {
        "id": "BLKKy0h3p3Ir"
      },
      "execution_count": 3,
      "outputs": []
    },
    {
      "cell_type": "code",
      "source": [
        "print('Number of train data:',len(train_df))\n",
        "print('Number of features:',len(train_df.columns)-1)\n",
        "label_0 = train_df[train_df['label']==0].iloc[:,1:-1] # exclude the id and label column\n",
        "label_1 = train_df[train_df['label']==1].iloc[:,1:-1]\n",
        "print('Number of 0 label:', len(label_0))\n",
        "print('Number of 1 label:', len(label_1))\n",
        "print('Columns in train df:\\n',train_df.columns)"
      ],
      "metadata": {
        "colab": {
          "base_uri": "https://localhost:8080/"
        },
        "id": "QDmjERG1rAO3",
        "outputId": "7920f326-1a44-4bca-c144-c4b8698e4ec4"
      },
      "execution_count": 4,
      "outputs": [
        {
          "output_type": "stream",
          "name": "stdout",
          "text": [
            "Number of train data: 87\n",
            "Number of features: 12\n",
            "Number of 0 label: 58\n",
            "Number of 1 label: 29\n",
            "Columns in train df:\n",
            " Index(['id', 'MO HLADR+ MFI (cells/ul)', 'Neu CD64+MFI (cells/ul)',\n",
            "       'CD3+T (cells/ul)', 'CD8+T (cells/ul)', 'CD4+T (cells/ul)',\n",
            "       'NK (cells/ul)', 'CD19+ (cells/ul)', 'CD45+ (cells/ul)', 'Age',\n",
            "       'Sex 0M1F', 'Mono CD64+MFI (cells/ul)', 'label'],\n",
            "      dtype='object')\n"
          ]
        }
      ]
    },
    {
      "cell_type": "code",
      "source": [
        "# visualize result\n",
        "def plot_confusion_matrix(cm, classes, normalize=False, title='Confusion matrix', cmap=plt.cm.Blues):\n",
        "    if normalize:\n",
        "        cm = cm.astype('float') / cm.sum(axis=1)[:, np.newaxis]\n",
        "        print(\"Normalized confusion matrix\")\n",
        "    else:\n",
        "        print('Confusion matrix, without normalization')\n",
        "\n",
        "    print(cm)\n",
        "    plt.imshow(cm, interpolation='nearest', cmap=cmap)\n",
        "    plt.title(title)\n",
        "    plt.colorbar()\n",
        "    tick_marks = np.arange(len(classes))\n",
        "    plt.xticks(tick_marks, classes, rotation=45)\n",
        "    plt.yticks(tick_marks, classes)\n",
        "\n",
        "    fmt = '.2f' if normalize else 'd'\n",
        "    thresh = cm.max() / 2.\n",
        "    for i, j in itertools.product(range(cm.shape[0]), range(cm.shape[1])):\n",
        "        plt.text(j, i, format(cm[i, j], fmt), horizontalalignment=\"center\", color=\"white\" if cm[i, j] > thresh else \"black\")\n",
        "\n",
        "    plt.tight_layout()\n",
        "    plt.ylabel('True label')\n",
        "    plt.xlabel('Predicted label')"
      ],
      "metadata": {
        "id": "Uw7MKL8HivWs"
      },
      "execution_count": 5,
      "outputs": []
    },
    {
      "cell_type": "code",
      "source": [
        "# LGBM search hyperparameter\n",
        "model_lgb = lgb.LGBMClassifier(objective='binary', learning_rate=0.05, max_depth=3,\n",
        "                              metric='auc', bagging_freq = 5)\n",
        "\n",
        "params={\n",
        "    'boosting_type': ['gbdt'],\n",
        "    #'max_depth': [2, 3, 4, 5, 6],\n",
        "    'num_leaves': [4],\n",
        "    'min_child_samples': [16],\n",
        "    'min_child_weight': [0.00005],\n",
        "    'feature_fraction': [0.75],\n",
        "}\n",
        "\n",
        "gsearch = GridSearchCV(estimator=model_lgb, param_grid=params, scoring='roc_auc', cv=5, verbose=1, n_jobs=1)\n",
        "gsearch.fit(train_df.iloc[:,1:-1], train_df.iloc[:,-1])\n",
        "print('Best params:', gsearch.best_params_, 'Best AUC:', gsearch.best_score_)"
      ],
      "metadata": {
        "colab": {
          "base_uri": "https://localhost:8080/"
        },
        "id": "qbe5DhGc-ync",
        "outputId": "71f9d3d3-7652-415e-eaa8-40aafa37b7e5"
      },
      "execution_count": 6,
      "outputs": [
        {
          "output_type": "stream",
          "name": "stdout",
          "text": [
            "Fitting 5 folds for each of 1 candidates, totalling 5 fits\n",
            "[LightGBM] [Warning] feature_fraction is set=0.75, colsample_bytree=1.0 will be ignored. Current value: feature_fraction=0.75\n",
            "[LightGBM] [Warning] bagging_freq is set=5, subsample_freq=0 will be ignored. Current value: bagging_freq=5\n",
            "[LightGBM] [Warning] feature_fraction is set=0.75, colsample_bytree=1.0 will be ignored. Current value: feature_fraction=0.75\n",
            "[LightGBM] [Warning] bagging_freq is set=5, subsample_freq=0 will be ignored. Current value: bagging_freq=5\n",
            "[LightGBM] [Warning] feature_fraction is set=0.75, colsample_bytree=1.0 will be ignored. Current value: feature_fraction=0.75\n",
            "[LightGBM] [Warning] bagging_freq is set=5, subsample_freq=0 will be ignored. Current value: bagging_freq=5\n",
            "[LightGBM] [Warning] feature_fraction is set=0.75, colsample_bytree=1.0 will be ignored. Current value: feature_fraction=0.75\n",
            "[LightGBM] [Warning] bagging_freq is set=5, subsample_freq=0 will be ignored. Current value: bagging_freq=5\n",
            "[LightGBM] [Warning] feature_fraction is set=0.75, colsample_bytree=1.0 will be ignored. Current value: feature_fraction=0.75\n",
            "[LightGBM] [Warning] bagging_freq is set=5, subsample_freq=0 will be ignored. Current value: bagging_freq=5\n",
            "[LightGBM] [Warning] feature_fraction is set=0.75, colsample_bytree=1.0 will be ignored. Current value: feature_fraction=0.75\n",
            "[LightGBM] [Warning] bagging_freq is set=5, subsample_freq=0 will be ignored. Current value: bagging_freq=5\n",
            "Best params: {'boosting_type': 'gbdt', 'feature_fraction': 0.75, 'min_child_samples': 16, 'min_child_weight': 5e-05, 'num_leaves': 4} Best AUC: 0.9021212121212121\n"
          ]
        }
      ]
    },
    {
      "cell_type": "code",
      "source": [
        "# normalize the data\n",
        "scaler = MinMaxScaler()\n",
        "scaler.fit(train_df.iloc[:,1:-1])\n",
        "normalized_train_x = scaler.transform(train_df.iloc[:,1:-1])\n",
        "fill_nan_normalized_train_x = np.nan_to_num(normalized_train_x)\n",
        "train_y = train_df.iloc[:,-1]\n",
        "normalized_test_x = scaler.transform(test_df.iloc[:,1:])\n",
        "#lgb_train = lgb.Dataset(normalized_x, label=train_df.iloc[:,-1])\n",
        "# X_train, X_valid, y_train, y_valid = train_test_split(normalized_x, train_df.iloc[:,-1], test_size=0.05)"
      ],
      "metadata": {
        "id": "gwk_f1K30RKY"
      },
      "execution_count": 14,
      "outputs": []
    },
    {
      "cell_type": "markdown",
      "source": [
        "### LGBM (0.93103)"
      ],
      "metadata": {
        "id": "dEOQ3WLX9w3C"
      }
    },
    {
      "cell_type": "code",
      "source": [
        "scoring = ['roc_auc']\n",
        "clf = lgb.LGBMClassifier(learning_rate=0.05, subsample_freq=5, subsample=0.75)\n",
        "scores = cross_validate(clf, fill_nan_normalized_train_x, train_y, scoring=scoring, cv=8, return_estimator=True)"
      ],
      "metadata": {
        "id": "DJs38Ado2h6t"
      },
      "execution_count": 39,
      "outputs": []
    },
    {
      "cell_type": "code",
      "source": [
        "preds = np.zeros_like(submission_result['label'].values).astype('float64')\n",
        "for estimator in scores['estimator']:\n",
        "  preds += estimator.predict(normalized_test_x)/8"
      ],
      "metadata": {
        "id": "z6mIrMyS5mEQ"
      },
      "execution_count": 40,
      "outputs": []
    },
    {
      "cell_type": "code",
      "source": [
        "preds[preds <= 0.5] = 0\n",
        "preds[preds > 0.5] = 1\n",
        "submission_result['label'] = preds.astype('int')"
      ],
      "metadata": {
        "id": "DlscH-A15p9g"
      },
      "execution_count": 41,
      "outputs": []
    },
    {
      "cell_type": "code",
      "source": [
        "submission_result"
      ],
      "metadata": {
        "id": "Ik4JPxhw6Hxz"
      },
      "execution_count": null,
      "outputs": []
    },
    {
      "cell_type": "code",
      "source": [
        "submission_result.to_csv('./data/sample_submission_lgbm2.csv', index=False)"
      ],
      "metadata": {
        "id": "afNqfF2K6OLz"
      },
      "execution_count": 43,
      "outputs": []
    },
    {
      "cell_type": "markdown",
      "source": [
        "### naive_bayes (0.82758)"
      ],
      "metadata": {
        "id": "anK2jyVkw-kc"
      }
    },
    {
      "cell_type": "code",
      "source": [
        "scoring = ['roc_auc']\n",
        "clf = GaussianNB()\n",
        "scores = cross_validate(clf, fill_nan_normalized_train_x, train_y, scoring=scoring, cv=8, return_estimator=True)\n",
        "#bayes_train_y_pred = gnb.fit(fill_nan_normalized_train_x, train_y).predict(fill_nan_normalized_train_x)"
      ],
      "metadata": {
        "id": "Ltdn_ug8QVJo"
      },
      "execution_count": null,
      "outputs": []
    },
    {
      "cell_type": "code",
      "source": [
        "preds = np.zeros_like(submission_result['label'].values).astype('float64')\n",
        "for estimator in scores['estimator']:\n",
        "  preds += estimator.predict(normalized_test_x)/8"
      ],
      "metadata": {
        "id": "ZlaTTaZoaj9U"
      },
      "execution_count": null,
      "outputs": []
    },
    {
      "cell_type": "code",
      "source": [
        "preds[preds <= 0.5] = 0\n",
        "preds[preds > 0.5] = 1\n",
        "submission_result['label'] = preds.astype('int')"
      ],
      "metadata": {
        "id": "23PYEF7RlYH2"
      },
      "execution_count": null,
      "outputs": []
    },
    {
      "cell_type": "code",
      "source": [
        "submission_result.to_csv('./data/sample_submission_bayes.csv', index=False)"
      ],
      "metadata": {
        "id": "Sx3FVrXUwp0H"
      },
      "execution_count": null,
      "outputs": []
    },
    {
      "cell_type": "markdown",
      "source": [
        "### XGBoost (0.96551)"
      ],
      "metadata": {
        "id": "cgW6KQDbw8bt"
      }
    },
    {
      "cell_type": "code",
      "source": [
        "scoring = ['roc_auc']\n",
        "clf = xgb.XGBClassifier(learning_rate=0.05)\n",
        "scores = cross_validate(clf, fill_nan_normalized_train_x, train_y, scoring=scoring, cv=8, return_estimator=True)"
      ],
      "metadata": {
        "id": "7c1NlX8e8qCH"
      },
      "execution_count": 47,
      "outputs": []
    },
    {
      "cell_type": "code",
      "source": [
        "preds = np.zeros_like(submission_result['label'].values).astype('float64')\n",
        "for estimator in scores['estimator']:\n",
        "  preds += estimator.predict(normalized_test_x)/8"
      ],
      "metadata": {
        "id": "TwxlMOan9DmZ"
      },
      "execution_count": 48,
      "outputs": []
    },
    {
      "cell_type": "code",
      "source": [
        "preds[preds <= 0.5] = 0\n",
        "preds[preds > 0.5] = 1\n",
        "submission_result['label'] = preds.astype('int')"
      ],
      "metadata": {
        "id": "UvLPU2tR9GlQ"
      },
      "execution_count": 50,
      "outputs": []
    },
    {
      "cell_type": "code",
      "source": [
        "submission_result"
      ],
      "metadata": {
        "id": "cycEPY009Nv-"
      },
      "execution_count": null,
      "outputs": []
    },
    {
      "cell_type": "code",
      "source": [
        "submission_result.to_csv('./data/sample_submission_xgb2.csv', index=False)"
      ],
      "metadata": {
        "id": "ZBRQd7uT9NKU"
      },
      "execution_count": 52,
      "outputs": []
    },
    {
      "cell_type": "markdown",
      "source": [
        "### logistic regression (0.96551)"
      ],
      "metadata": {
        "id": "pyjOT-EH8_Q_"
      }
    },
    {
      "cell_type": "code",
      "source": [
        "from sklearn.linear_model import LogisticRegressionCV\n",
        "\n",
        "clf = LogisticRegressionCV(cv=8).fit(fill_nan_normalized_train_x, train_y)\n",
        "logit_train_y_pred = clf.predict(fill_nan_normalized_train_x)"
      ],
      "metadata": {
        "id": "1oCJxuc-6xm4"
      },
      "execution_count": null,
      "outputs": []
    },
    {
      "cell_type": "code",
      "source": [
        "target_names = ['class 0', 'class 1']\n",
        "print(classification_report(logit_train_y_pred, train_y, target_names=target_names))\n",
        "cm = confusion_matrix(logit_train_y_pred, train_y)\n",
        "plot_confusion_matrix(cm, [0, 1])"
      ],
      "metadata": {
        "colab": {
          "base_uri": "https://localhost:8080/",
          "height": 525
        },
        "id": "jufYTkns8HHK",
        "outputId": "03f8249b-b373-475a-cb37-266a2f36576a"
      },
      "execution_count": null,
      "outputs": [
        {
          "output_type": "stream",
          "name": "stdout",
          "text": [
            "              precision    recall  f1-score   support\n",
            "\n",
            "     class 0       0.95      0.93      0.94        59\n",
            "     class 1       0.86      0.89      0.88        28\n",
            "\n",
            "    accuracy                           0.92        87\n",
            "   macro avg       0.91      0.91      0.91        87\n",
            "weighted avg       0.92      0.92      0.92        87\n",
            "\n",
            "Confusion matrix, without normalization\n",
            "[[55  4]\n",
            " [ 3 25]]\n"
          ]
        },
        {
          "output_type": "display_data",
          "data": {
            "text/plain": [
              "<Figure size 432x288 with 2 Axes>"
            ],
            "image/png": "[encoded data removed]"
          },
          "metadata": {
            "needs_background": "light"
          }
        }
      ]
    },
    {
      "cell_type": "code",
      "source": [
        "preds = clf.predict(normalized_test_x)\n",
        "submission_result['label'] = preds\n",
        "submission_result.to_csv('./data/sample_submission_logistic.csv', index=False)"
      ],
      "metadata": {
        "id": "WfKC3xrZ-1Mf"
      },
      "execution_count": null,
      "outputs": []
    },
    {
      "cell_type": "markdown",
      "source": [
        "### SVM (0.89655)"
      ],
      "metadata": {
        "id": "Q7HRjwnz_Yrc"
      }
    },
    {
      "cell_type": "code",
      "source": [
        "\n",
        "from sklearn import svm\n",
        "\n",
        "scoring = ['roc_auc']\n",
        "clf = svm.SVC(kernel='rbf', C=1)\n",
        "scores = cross_validate(clf, fill_nan_normalized_train_x, train_y, scoring=scoring, cv=8, return_estimator=True)"
      ],
      "metadata": {
        "id": "nv4gH5EG9Pmk",
        "colab": {
          "base_uri": "https://localhost:8080/",
          "height": 35
        },
        "outputId": "004f5f2b-8ff5-47f1-a3b9-bb5190b2f347"
      },
      "execution_count": null,
      "outputs": [
        {
          "output_type": "execute_result",
          "data": {
            "text/plain": [
              "\"clf = make_pipeline(StandardScaler(), SVC(gamma='auto'))\\nclf = clf.fit(normalized_train_x, train_y)\\nsvm_train_y_pred = clf.predict(normalized_train_x)\""
            ],
            "application/vnd.google.colaboratory.intrinsic+json": {
              "type": "string"
            }
          },
          "metadata": {},
          "execution_count": 310
        }
      ]
    },
    {
      "cell_type": "code",
      "source": [
        "preds = np.zeros_like(submission_result['label'].values).astype('float64')\n",
        "for estimator in scores['estimator']:\n",
        "  preds += estimator.predict(normalized_test_x)/8"
      ],
      "metadata": {
        "id": "I3g4sthyA9ME"
      },
      "execution_count": null,
      "outputs": []
    },
    {
      "cell_type": "code",
      "source": [
        "preds[preds <= 0.5] = 0\n",
        "preds[preds > 0.5] = 1\n",
        "submission_result['label'] = preds.astype('int')"
      ],
      "metadata": {
        "id": "hCiDL5fNB9Ay"
      },
      "execution_count": null,
      "outputs": []
    },
    {
      "cell_type": "code",
      "source": [
        "submission_result.to_csv('./data/sample_submission_svm.csv', index=False)"
      ],
      "metadata": {
        "id": "Q_ohbItWCPaU"
      },
      "execution_count": null,
      "outputs": []
    },
    {
      "cell_type": "markdown",
      "source": [
        "### random forest (0.96551)"
      ],
      "metadata": {
        "id": "qAJF7oIEDC6R"
      }
    },
    {
      "cell_type": "code",
      "source": [
        "clf = RandomForestClassifier(max_depth=None, random_state=None)\n",
        "scores = cross_validate(clf, fill_nan_normalized_train_x, train_y, scoring=scoring, cv=8, return_estimator=True)"
      ],
      "metadata": {
        "id": "qvcB8bYD_2CQ",
        "colab": {
          "base_uri": "https://localhost:8080/",
          "height": 35
        },
        "outputId": "32d77f5d-ea66-402a-e98e-5af0e91fc8ff"
      },
      "execution_count": null,
      "outputs": [
        {
          "output_type": "execute_result",
          "data": {
            "text/plain": [
              "'clf = clf.fit(normalized_train_x, train_y)\\nrf_train_y_pred = clf.predict(normalized_train_x)'"
            ],
            "application/vnd.google.colaboratory.intrinsic+json": {
              "type": "string"
            }
          },
          "metadata": {},
          "execution_count": 323
        }
      ]
    },
    {
      "cell_type": "code",
      "source": [
        "preds = np.zeros_like(submission_result['label'].values).astype('float64')\n",
        "for estimator in scores['estimator']:\n",
        "  preds += estimator.predict(normalized_test_x)/8"
      ],
      "metadata": {
        "id": "1pnPlX3JDiDA"
      },
      "execution_count": null,
      "outputs": []
    },
    {
      "cell_type": "code",
      "source": [
        "preds[preds <= 0.5] = 0\n",
        "preds[preds > 0.5] = 1\n",
        "submission_result['label'] = preds.astype('int')"
      ],
      "metadata": {
        "id": "zeqL4xX8D21l"
      },
      "execution_count": null,
      "outputs": []
    },
    {
      "cell_type": "code",
      "source": [
        "submission_result.to_csv('./data/sample_submission_rf.csv', index=False)"
      ],
      "metadata": {
        "id": "4qD5QmIPD46O"
      },
      "execution_count": null,
      "outputs": []
    },
    {
      "cell_type": "markdown",
      "source": [
        "### GradientBoostingClassifier (0.89655)"
      ],
      "metadata": {
        "id": "dpq1LTahEI97"
      }
    },
    {
      "cell_type": "code",
      "source": [
        "clf = GradientBoostingClassifier(n_estimators=100, learning_rate=0.05)\n",
        "scores = cross_validate(clf, fill_nan_normalized_train_x, train_y, scoring=scoring, cv=8, return_estimator=True)"
      ],
      "metadata": {
        "id": "oJZZYCP1ej-q"
      },
      "execution_count": null,
      "outputs": []
    },
    {
      "cell_type": "code",
      "source": [
        "preds = np.zeros_like(submission_result['label'].values).astype('float64')\n",
        "for estimator in scores['estimator']:\n",
        "  preds += estimator.predict(normalized_test_x)/8"
      ],
      "metadata": {
        "id": "0TN-v31yfRjc"
      },
      "execution_count": null,
      "outputs": []
    },
    {
      "cell_type": "code",
      "source": [
        "preds[preds <= 0.5] = 0\n",
        "preds[preds > 0.5] = 1\n",
        "submission_result['label'] = preds.astype('int')"
      ],
      "metadata": {
        "id": "fi0FT7v7fpaa"
      },
      "execution_count": null,
      "outputs": []
    },
    {
      "cell_type": "code",
      "source": [
        "submission_result.to_csv('./data/sample_submission_gbc.csv', index=False)"
      ],
      "metadata": {
        "id": "wAt1x6qffWoD"
      },
      "execution_count": null,
      "outputs": []
    },
    {
      "cell_type": "markdown",
      "source": [
        "### CatBoost (Score: 0.93103)"
      ],
      "metadata": {
        "id": "A59e7Q4VEmv2"
      }
    },
    {
      "cell_type": "code",
      "source": [
        "from catboost import Pool, cv\n",
        "cat_features = [9]\n",
        "cv_dataset = Pool(data=train_df.iloc[:,1:-1],\n",
        "                  label=train_y, cat_features=cat_features)\n",
        "\n",
        "params = {\"iterations\": 100,\n",
        "          \"depth\": 2,\n",
        "          \"loss_function\": \"Logloss\",\n",
        "          'eval_metric' : 'AUC',\n",
        "          \"verbose\": False,\n",
        "          \"roc_file\": \"roc-file\"}\n",
        "\n",
        "scores = cv(cv_dataset, params, nfold=8, return_models=True, early_stopping_rounds=10)"
      ],
      "metadata": {
        "id": "Q3rl8A7gGugy"
      },
      "execution_count": null,
      "outputs": []
    },
    {
      "cell_type": "code",
      "source": [
        "preds = np.zeros_like(submission_result['label'].values).astype('float64')\n",
        "for estimator in scores[-1]:\n",
        "  preds += estimator.predict(test_df.iloc[:,1:])/8"
      ],
      "metadata": {
        "id": "dFg0KFF4IkVG"
      },
      "execution_count": null,
      "outputs": []
    },
    {
      "cell_type": "code",
      "source": [
        "preds[preds <= 0.5] = 0\n",
        "preds[preds > 0.5] = 1\n",
        "submission_result['label'] = preds.astype('int')\n",
        "submission_result.to_csv('./data/sample_submission_catboost.csv', index=False)"
      ],
      "metadata": {
        "id": "S1LTeWMwI7kB"
      },
      "execution_count": null,
      "outputs": []
    },
    {
      "cell_type": "markdown",
      "source": [
        "### AdaBoost (0.96551)"
      ],
      "metadata": {
        "id": "jywyPDZT9901"
      }
    },
    {
      "cell_type": "code",
      "source": [
        "from sklearn.ensemble import AdaBoostClassifier\n",
        "clf = AdaBoostClassifier(learning_rate=0.05)\n",
        "scores = cross_validate(clf, fill_nan_normalized_train_x, train_y, scoring=scoring, cv=8, return_estimator=True)"
      ],
      "metadata": {
        "id": "hzIURGKB9_cK"
      },
      "execution_count": 53,
      "outputs": []
    },
    {
      "cell_type": "code",
      "source": [
        "preds = np.zeros_like(submission_result['label'].values).astype('float64')\n",
        "for estimator in scores['estimator']:\n",
        "  preds += estimator.predict(normalized_test_x)/8"
      ],
      "metadata": {
        "id": "1EAdMT8_-TUA"
      },
      "execution_count": 54,
      "outputs": []
    },
    {
      "cell_type": "code",
      "source": [
        "preds[preds <= 0.5] = 0\n",
        "preds[preds > 0.5] = 1\n",
        "submission_result['label'] = preds.astype('int')\n",
        "submission_result.to_csv('./data/sample_submission_adaboost.csv', index=False)"
      ],
      "metadata": {
        "id": "xszR37pn-VZ3"
      },
      "execution_count": 56,
      "outputs": []
    },
    {
      "cell_type": "markdown",
      "source": [
        "### NN (0.82758)"
      ],
      "metadata": {
        "id": "glUwxjmoB20O"
      }
    },
    {
      "cell_type": "code",
      "source": [
        "from sklearn.neural_network import MLPClassifier\n",
        "from sklearn.model_selection import RandomizedSearchCV\n",
        "\n",
        "parameter_space = {\n",
        "    'hidden_layer_sizes': [(8,16,8), (8,8), (16,8), (32)],\n",
        "    'activation': ['tanh', 'relu'],\n",
        "    'solver': ['sgd', 'adam'],\n",
        "    'alpha': [0.0001, 0.05],\n",
        "    'learning_rate': ['constant','adaptive'],\n",
        "    'learning_rate_init': [1, 0.1, 0.01]\n",
        "}\n",
        "\n",
        "mlp = MLPClassifier(max_iter=2000, early_stopping=True, validation_fraction=0.1, n_iter_no_change=500)\n",
        "clf = RandomizedSearchCV(mlp, parameter_space, n_jobs=-1, cv=10, verbose=1)\n",
        "clf.fit(fill_nan_normalized_train_x, train_y)\n",
        "mlp_train_pred = clf.predict(fill_nan_normalized_train_x)"
      ],
      "metadata": {
        "id": "mlRjm56-d4yM",
        "colab": {
          "base_uri": "https://localhost:8080/"
        },
        "outputId": "45848f6d-b273-49e8-f3ba-5c9c445dacde"
      },
      "execution_count": 107,
      "outputs": [
        {
          "output_type": "stream",
          "name": "stdout",
          "text": [
            "Fitting 10 folds for each of 10 candidates, totalling 100 fits\n"
          ]
        }
      ]
    },
    {
      "cell_type": "code",
      "source": [
        "target_names = ['class 0', 'class 1']\n",
        "print(classification_report(mlp_train_pred, train_y, target_names=target_names))\n",
        "cm = confusion_matrix(mlp_train_pred, train_y)\n",
        "plot_confusion_matrix(cm, [0, 1])"
      ],
      "metadata": {
        "colab": {
          "base_uri": "https://localhost:8080/",
          "height": 525
        },
        "id": "ihMslz_u2AZo",
        "outputId": "1d2f04c7-5805-4bea-a21a-46956f550ccb"
      },
      "execution_count": 108,
      "outputs": [
        {
          "output_type": "stream",
          "name": "stdout",
          "text": [
            "              precision    recall  f1-score   support\n",
            "\n",
            "     class 0       0.95      0.82      0.88        67\n",
            "     class 1       0.59      0.85      0.69        20\n",
            "\n",
            "    accuracy                           0.83        87\n",
            "   macro avg       0.77      0.84      0.79        87\n",
            "weighted avg       0.87      0.83      0.84        87\n",
            "\n",
            "Confusion matrix, without normalization\n",
            "[[55 12]\n",
            " [ 3 17]]\n"
          ]
        },
        {
          "output_type": "display_data",
          "data": {
            "text/plain": [
              "<Figure size 432x288 with 2 Axes>"
            ],
            "image/png": "[encoded data removed]"
          },
          "metadata": {
            "needs_background": "light"
          }
        }
      ]
    },
    {
      "cell_type": "code",
      "source": [
        "mlp_test_pred = clf.predict(normalized_test_x)"
      ],
      "metadata": {
        "id": "KgrMYr6I5qhZ"
      },
      "execution_count": 109,
      "outputs": []
    },
    {
      "cell_type": "code",
      "source": [
        "submission_result['label'] = mlp_test_pred\n",
        "submission_result.to_csv('./data/sample_submission_nn.csv', index=False)"
      ],
      "metadata": {
        "id": "xoIcq86y2VZC"
      },
      "execution_count": null,
      "outputs": []
    },
    {
      "cell_type": "markdown",
      "source": [
        "### Tree Model ensemble\n",
        "\n",
        "Choose 3 best models for voting (private accuracy)\n",
        "\n",
        "* lgb: 0.93103\n",
        "* xgboost: 0.96551\n",
        "* RandomForestClassifier: 0.96551\n",
        "* GradientBoostingClassifier: 0.89655\n",
        "* catboost: 0.93103\n",
        "* Logistic: 0.96551\n",
        "* SVM: 0.89655\n",
        "* AdaBoost: 0.96551\n",
        "* ~~Neural Network: 0.82758~~\n",
        "* ~~Naive Bayes: 0.82758~~\n",
        "\n"
      ],
      "metadata": {
        "id": "l1BHahxgXTMz"
      }
    },
    {
      "cell_type": "code",
      "source": [
        "lgb_submission = pd.read_csv('./data/sample_submission_lgbm.csv')\n",
        "xgb_submission = pd.read_csv('./data/sample_submission_xgb.csv')\n",
        "rf_submission = pd.read_csv('./data/sample_submission_rf.csv')\n",
        "gbc_submission = pd.read_csv('./data/sample_submission_gbc.csv')\n",
        "catboost_submission = pd.read_csv('./data/sample_submission_catboost.csv')\n",
        "logistic_submission = pd.read_csv('./data/sample_submission_logistic.csv')\n",
        "svm_submission = pd.read_csv('./data/sample_submission_svm.csv')\n",
        "adaboost_submission = pd.read_csv('./data/sample_submission_adaboost.csv')\n",
        "nn_submission = pd.read_csv('./data/sample_submission_nn.csv')\n",
        "bayes_submission = pd.read_csv('./data/sample_submission_bayes.csv')"
      ],
      "metadata": {
        "id": "D73lkyEB5U90"
      },
      "execution_count": 113,
      "outputs": []
    },
    {
      "cell_type": "code",
      "source": [
        "ensemble_list = [lgb_submission, \n",
        "                 xgb_submission, \n",
        "                 rf_submission, \n",
        "                 gbc_submission, \n",
        "                 catboost_submission, \n",
        "                 logistic_submission, \n",
        "                 svm_submission, \n",
        "                 adaboost_submission, ]\n",
        "                 #nn_submission, \n",
        "                 #bayes_submission]\n",
        "ensemble_label_list = []\n",
        "for submission in ensemble_list:\n",
        "  ensemble_label_list.append(submission['label'].values)"
      ],
      "metadata": {
        "id": "uFel1ZJ3DG5X"
      },
      "execution_count": 133,
      "outputs": []
    },
    {
      "cell_type": "code",
      "source": [
        "ensemble_preds = np.array(ensemble_label_list).mean(axis=0)"
      ],
      "metadata": {
        "id": "oHuEk2aaENQq"
      },
      "execution_count": 134,
      "outputs": []
    },
    {
      "cell_type": "code",
      "source": [
        "ensemble_preds[ensemble_preds <= 0.5] = 0\n",
        "ensemble_preds[ensemble_preds > 0.5] = 1\n",
        "submission_result['label'] = ensemble_preds.astype('int')\n",
        "submission_result.to_csv('./data/sample_submission_ensemble.csv', index=False)"
      ],
      "metadata": {
        "id": "ox-IMcV9EObx"
      },
      "execution_count": 135,
      "outputs": []
    },
    {
      "cell_type": "code",
      "source": [
        ""
      ],
      "metadata": {
        "id": "2SDTIithEpDv"
      },
      "execution_count": null,
      "outputs": []
    }
  ]
}